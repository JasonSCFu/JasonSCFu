{
  "nbformat": 4,
  "nbformat_minor": 0,
  "metadata": {
    "colab": {
      "name": "Glob Module.ipynb",
      "provenance": [],
      "authorship_tag": "ABX9TyOswwOzKz+gA5S0eu3eNbts",
      "include_colab_link": true
    },
    "kernelspec": {
      "name": "python3",
      "display_name": "Python 3"
    },
    "language_info": {
      "name": "python"
    }
  },
  "cells": [
    {
      "cell_type": "markdown",
      "metadata": {
        "id": "view-in-github",
        "colab_type": "text"
      },
      "source": [
        "<a href=\"https://colab.research.google.com/github/JasonSCFu/JasonSCFu/blob/main/Glob_Module.ipynb\" target=\"_parent\"><img src=\"https://colab.research.google.com/assets/colab-badge.svg\" alt=\"Open In Colab\"/></a>"
      ]
    },
    {
      "cell_type": "code",
      "execution_count": 1,
      "metadata": {
        "colab": {
          "base_uri": "https://localhost:8080/",
          "height": 258
        },
        "id": "1e06JD-euYJD",
        "outputId": "97b1a643-3eb0-4681-b257-ffe6a1bfefb9"
      },
      "outputs": [
        {
          "output_type": "stream",
          "name": "stdout",
          "text": [
            "Successfully created dataframe for input/test1.csv with shape (13, 2)\n",
            "Successfully created dataframe for input/test2.csv with shape (13, 2)\n",
            "(26, 2)\n"
          ]
        },
        {
          "output_type": "execute_result",
          "data": {
            "text/html": [
              "<div>\n",
              "<style scoped>\n",
              "    .dataframe tbody tr th:only-of-type {\n",
              "        vertical-align: middle;\n",
              "    }\n",
              "\n",
              "    .dataframe tbody tr th {\n",
              "        vertical-align: top;\n",
              "    }\n",
              "\n",
              "    .dataframe thead th {\n",
              "        text-align: right;\n",
              "    }\n",
              "</style>\n",
              "<table border=\"1\" class=\"dataframe\">\n",
              "  <thead>\n",
              "    <tr style=\"text-align: right;\">\n",
              "      <th></th>\n",
              "      <th>A</th>\n",
              "      <th>B</th>\n",
              "    </tr>\n",
              "  </thead>\n",
              "  <tbody>\n",
              "    <tr>\n",
              "      <th>0</th>\n",
              "      <td>1</td>\n",
              "      <td>1</td>\n",
              "    </tr>\n",
              "    <tr>\n",
              "      <th>1</th>\n",
              "      <td>1</td>\n",
              "      <td>2</td>\n",
              "    </tr>\n",
              "    <tr>\n",
              "      <th>2</th>\n",
              "      <td>1</td>\n",
              "      <td>2</td>\n",
              "    </tr>\n",
              "    <tr>\n",
              "      <th>3</th>\n",
              "      <td>1</td>\n",
              "      <td>2</td>\n",
              "    </tr>\n",
              "    <tr>\n",
              "      <th>4</th>\n",
              "      <td>1</td>\n",
              "      <td>2</td>\n",
              "    </tr>\n",
              "  </tbody>\n",
              "</table>\n",
              "</div>"
            ],
            "text/plain": [
              "   A  B\n",
              "0  1  1\n",
              "1  1  2\n",
              "2  1  2\n",
              "3  1  2\n",
              "4  1  2"
            ]
          },
          "metadata": {},
          "execution_count": 1
        }
      ],
      "source": [
        "import pandas as pd\n",
        "import glob\n",
        "\n",
        "# set search path and glob for files\n",
        "# here we want to look for csv files in the input directory\n",
        "path = 'input'\n",
        "files = glob.glob(path + '/*.csv')\n",
        "\n",
        "# create empty list to store dataframes\n",
        "li = []\n",
        "\n",
        "# loop through list of files and read each one into a dataframe and append to list\n",
        "for f in files:\n",
        "    # read in csv\n",
        "    temp_df = pd.read_csv(f)\n",
        "    # append df to list\n",
        "    li.append(temp_df)\n",
        "    print(f'Successfully created dataframe for {f} with shape {temp_df.shape}')\n",
        "\n",
        "# concatenate our list of dataframes into one!\n",
        "df = pd.concat(li, axis=0)\n",
        "print(df.shape)\n",
        "df.head()"
      ]
    },
    {
      "cell_type": "code",
      "source": [
        "import pandas as pd\n",
        "import glob\n",
        "\n",
        "# set filepath to search\n",
        "path = 'input/' + '*.txt'\n",
        "\n",
        "# string to search for\n",
        "search_term = 'kdeplot'\n",
        "\n",
        "# empty list to hold files that contain matching string\n",
        "files_to_check = []\n",
        "\n",
        "# looping through all the filenames returned\n",
        "# set recursive = True to look in sub-directories too\n",
        "for filename in glob.iglob(path, recursive=True):\n",
        "    # adding error handling just in case!\n",
        "    try:\n",
        "        with open(filename) as f:\n",
        "            # read the file as a string\n",
        "            contents = f.read()\n",
        "            # if the search term is found append to the list of files\n",
        "            if(search_term in contents):\n",
        "                files_to_check.append(filename)\n",
        "    except:\n",
        "        pass\n",
        "\n",
        "files_to_check"
      ],
      "metadata": {
        "colab": {
          "base_uri": "https://localhost:8080/"
        },
        "id": "0kV5kxX0wCbj",
        "outputId": "6322cfcf-9fed-4d1b-aeb3-4a81fc713245"
      },
      "execution_count": 5,
      "outputs": [
        {
          "output_type": "execute_result",
          "data": {
            "text/plain": [
              "['input/glob_find.txt']"
            ]
          },
          "metadata": {},
          "execution_count": 5
        }
      ]
    },
    {
      "cell_type": "code",
      "source": [
        ""
      ],
      "metadata": {
        "id": "sics3U6Tw9Px"
      },
      "execution_count": null,
      "outputs": []
    }
  ]
}